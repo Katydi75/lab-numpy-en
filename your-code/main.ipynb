{
 "cells": [
  {
   "cell_type": "markdown",
   "metadata": {},
   "source": [
    "# Lab | Numpy Deep Dive"
   ]
  },
  {
   "cell_type": "markdown",
   "metadata": {},
   "source": [
    "### 1. Import the NUMPY package under the name np.\n"
   ]
  },
  {
   "cell_type": "code",
   "execution_count": 9,
   "metadata": {},
   "outputs": [],
   "source": [
    "### [your code here]\n",
    "import numpy as np"
   ]
  },
  {
   "cell_type": "markdown",
   "metadata": {},
   "source": [
    "\n",
    "\n",
    "### 2. Print the NUMPY version and the configuration.\n"
   ]
  },
  {
   "cell_type": "code",
   "execution_count": 25,
   "metadata": {},
   "outputs": [
    {
     "name": "stdout",
     "output_type": "stream",
     "text": [
      "1.26.4\n",
      "Build Dependencies:\n",
      "  blas:\n",
      "    detection method: pkgconfig\n",
      "    found: true\n",
      "    include directory: C:/Users/katyd/anaconda3/Library/include\n",
      "    lib directory: C:/Users/katyd/anaconda3/Library/lib\n",
      "    name: mkl-sdl\n",
      "    openblas configuration: unknown\n",
      "    pc file directory: C:\\b\\abs_c1ywpu18ar\\croot\\numpy_and_numpy_base_1708638681471\\_h_env\\Library\\lib\\pkgconfig\n",
      "    version: '2023.1'\n",
      "  lapack:\n",
      "    detection method: internal\n",
      "    found: true\n",
      "    include directory: unknown\n",
      "    lib directory: unknown\n",
      "    name: dep1583119523984\n",
      "    openblas configuration: unknown\n",
      "    pc file directory: unknown\n",
      "    version: 1.26.4\n",
      "Compilers:\n",
      "  c:\n",
      "    commands: cl.exe\n",
      "    linker: link\n",
      "    name: msvc\n",
      "    version: 19.29.30154\n",
      "  c++:\n",
      "    commands: cl.exe\n",
      "    linker: link\n",
      "    name: msvc\n",
      "    version: 19.29.30154\n",
      "  cython:\n",
      "    commands: cython\n",
      "    linker: cython\n",
      "    name: cython\n",
      "    version: 3.0.8\n",
      "Machine Information:\n",
      "  build:\n",
      "    cpu: x86_64\n",
      "    endian: little\n",
      "    family: x86_64\n",
      "    system: windows\n",
      "  host:\n",
      "    cpu: x86_64\n",
      "    endian: little\n",
      "    family: x86_64\n",
      "    system: windows\n",
      "Python Information:\n",
      "  path: C:\\b\\abs_c1ywpu18ar\\croot\\numpy_and_numpy_base_1708638681471\\_h_env\\python.exe\n",
      "  version: '3.12'\n",
      "SIMD Extensions:\n",
      "  baseline:\n",
      "  - SSE\n",
      "  - SSE2\n",
      "  - SSE3\n",
      "  found:\n",
      "  - SSSE3\n",
      "  - SSE41\n",
      "  - POPCNT\n",
      "  - SSE42\n",
      "  - AVX\n",
      "  - F16C\n",
      "  - FMA3\n",
      "  - AVX2\n",
      "  not found:\n",
      "  - AVX512F\n",
      "  - AVX512CD\n",
      "  - AVX512_SKX\n",
      "  - AVX512_CLX\n",
      "  - AVX512_CNL\n",
      "  - AVX512_ICL\n",
      "\n"
     ]
    }
   ],
   "source": [
    "### [your code here]\n",
    "print(np.__version__)\n",
    "np.show_config()\n"
   ]
  },
  {
   "cell_type": "markdown",
   "metadata": {},
   "source": [
    "### 3. Generate a 2x3x5 3-dimensional array with random values. Assign the array to variable \"a\"\n",
    "Challenge: there are at least three easy ways that use numpy to generate random arrays. How many ways can you find?\n"
   ]
  },
  {
   "cell_type": "code",
   "execution_count": 36,
   "metadata": {},
   "outputs": [
    {
     "name": "stdout",
     "output_type": "stream",
     "text": [
      "(2, 3, 5)\n"
     ]
    }
   ],
   "source": [
    "### [your code here]\n",
    "a = np.random.rand(2, 3, 5)  # Generation of a 2x3x5 3D array with random values\n",
    "\n",
    "print(a.shape)  # test output - expected (2,3,4)\n"
   ]
  },
  {
   "cell_type": "markdown",
   "metadata": {},
   "source": [
    "\n",
    "### 4. Print a.\n"
   ]
  },
  {
   "cell_type": "code",
   "execution_count": 30,
   "metadata": {},
   "outputs": [
    {
     "name": "stdout",
     "output_type": "stream",
     "text": [
      "[[[0.3657966  0.90109664 0.86953173 0.56046572 0.52880806]\n",
      "  [0.28327227 0.70052352 0.69911563 0.38725705 0.63597503]\n",
      "  [0.09208286 0.31723135 0.34864698 0.96194109 0.01394564]]\n",
      "\n",
      " [[0.68390547 0.08867544 0.52529695 0.83460172 0.56708027]\n",
      "  [0.63723314 0.18687267 0.34646646 0.18628825 0.24468392]\n",
      "  [0.64204977 0.12436984 0.87679126 0.98289078 0.7844196 ]]]\n"
     ]
    }
   ],
   "source": [
    "### [your code here]\n",
    "print(a) # Test the random values"
   ]
  },
  {
   "cell_type": "code",
   "execution_count": null,
   "metadata": {},
   "outputs": [],
   "source": []
  },
  {
   "cell_type": "markdown",
   "metadata": {},
   "source": [
    "### 5. Create a 5x2x3 3-dimensional array with all values equaling 1.\n",
    "### Assign the array to variable \"b\"\n"
   ]
  },
  {
   "cell_type": "code",
   "execution_count": null,
   "metadata": {},
   "outputs": [],
   "source": [
    "### [your code here]\n",
    "b = np.ones((5, 2, 3)) \n",
    "\n"
   ]
  },
  {
   "cell_type": "markdown",
   "metadata": {},
   "source": [
    "\n",
    "### 6. Print b.\n"
   ]
  },
  {
   "cell_type": "code",
   "execution_count": 34,
   "metadata": {},
   "outputs": [
    {
     "name": "stdout",
     "output_type": "stream",
     "text": [
      "(5, 2, 3)\n",
      "[[[1. 1. 1.]\n",
      "  [1. 1. 1.]]\n",
      "\n",
      " [[1. 1. 1.]\n",
      "  [1. 1. 1.]]\n",
      "\n",
      " [[1. 1. 1.]\n",
      "  [1. 1. 1.]]\n",
      "\n",
      " [[1. 1. 1.]\n",
      "  [1. 1. 1.]]\n",
      "\n",
      " [[1. 1. 1.]\n",
      "  [1. 1. 1.]]]\n"
     ]
    }
   ],
   "source": [
    "### [your code here]\n",
    "print(b.shape)  # (5, 2, 3)\n",
    "print(b)\n"
   ]
  },
  {
   "cell_type": "markdown",
   "metadata": {},
   "source": [
    "\n",
    "### 7. Do a and b have the same size? How do you prove that in Python code?\n"
   ]
  },
  {
   "cell_type": "code",
   "execution_count": 37,
   "metadata": {},
   "outputs": [
    {
     "name": "stdout",
     "output_type": "stream",
     "text": [
      "Shape of a: (2, 3, 5)\n",
      "Shape of b: (5, 2, 3)\n",
      "Same shape? False\n",
      "Same size? True\n"
     ]
    }
   ],
   "source": [
    "### [your code here]\n",
    "print(\"Shape of a:\", a.shape)\n",
    "print(\"Shape of b:\", b.shape)\n",
    "\n",
    "print(\"Same shape?\", a.shape == b.shape)\n",
    "print(\"Same size?\", a.size == b.size)\n"
   ]
  },
  {
   "cell_type": "markdown",
   "metadata": {},
   "source": [
    "\n",
    "### 8. Are you able to add a and b? Why or why not?\n"
   ]
  },
  {
   "cell_type": "code",
   "execution_count": null,
   "metadata": {},
   "outputs": [
    {
     "ename": "ValueError",
     "evalue": "operands could not be broadcast together with shapes (2,3,5) (5,2,3) ",
     "output_type": "error",
     "traceback": [
      "\u001b[1;31m---------------------------------------------------------------------------\u001b[0m",
      "\u001b[1;31mValueError\u001b[0m                                Traceback (most recent call last)",
      "Cell \u001b[1;32mIn[38], line 2\u001b[0m\n\u001b[0;32m      1\u001b[0m \u001b[38;5;66;03m### [your code here]\u001b[39;00m\n\u001b[1;32m----> 2\u001b[0m result \u001b[38;5;241m=\u001b[39m a \u001b[38;5;241m+\u001b[39m b\n",
      "\u001b[1;31mValueError\u001b[0m: operands could not be broadcast together with shapes (2,3,5) (5,2,3) "
     ]
    }
   ],
   "source": [
    "### [your code here]\n",
    "result = a + b # no they have not the same shape"
   ]
  },
  {
   "cell_type": "markdown",
   "metadata": {},
   "source": [
    "\n",
    "\n",
    "### 9. Transpose b so that it has the same structure of a (i.e. become a 2x3x5 array). Assign the transposed array to varialbe \"c\".\n"
   ]
  },
  {
   "cell_type": "code",
   "execution_count": 47,
   "metadata": {},
   "outputs": [],
   "source": [
    "### [your code here]\n",
    "a = np.random.rand(2, 3, 5) \n",
    "b = np.ones((5, 2, 3)) \n",
    "\n",
    "c = b.transpose(1, 2, 0)  # Now c.shape = (2, 3, 5)\n"
   ]
  },
  {
   "cell_type": "markdown",
   "metadata": {},
   "source": [
    "\n",
    "### 10. Try to add a and c. Now it should work. Assign the sum to variable \"d\". But why does it work now?\n"
   ]
  },
  {
   "cell_type": "code",
   "execution_count": 43,
   "metadata": {},
   "outputs": [
    {
     "name": "stdout",
     "output_type": "stream",
     "text": [
      "(2, 3, 5)\n"
     ]
    }
   ],
   "source": [
    "### [your code here]\n",
    "d = a + c\n",
    "print(d.shape)  # (2, 3, 5)\n"
   ]
  },
  {
   "cell_type": "markdown",
   "metadata": {},
   "source": [
    "\n",
    "### 11. Print a and d. Notice the difference and relation of the two array in terms of the values? Explain.\n"
   ]
  },
  {
   "cell_type": "code",
   "execution_count": 48,
   "metadata": {},
   "outputs": [
    {
     "name": "stdout",
     "output_type": "stream",
     "text": [
      "Array a:\n",
      " [[[0.7572231  0.18780504 0.38957816 0.85835148 0.40658923]\n",
      "  [0.62407291 0.69618725 0.40103061 0.92771998 0.22542756]\n",
      "  [0.68288134 0.48501065 0.7842375  0.04488339 0.98324777]]\n",
      "\n",
      " [[0.58894603 0.84870154 0.73658104 0.23794881 0.21809411]\n",
      "  [0.57306364 0.83240538 0.29737822 0.10364769 0.19825208]\n",
      "  [0.96656248 0.1943725  0.62006074 0.55945795 0.04527458]]]\n",
      "\n",
      "Array d (a + c):\n",
      " [[[1.85212586 1.45014747 1.79032935 1.73556085 1.2810904 ]\n",
      "  [1.77530255 1.67697815 1.51651305 1.89625968 1.63087982]\n",
      "  [1.11891017 1.25211444 1.19646734 1.29839114 1.75313791]]\n",
      "\n",
      " [[1.40337783 1.64615612 1.68358535 1.34594564 1.1483694 ]\n",
      "  [1.72406366 1.3151092  1.43978664 1.51793071 1.54598   ]\n",
      "  [1.44762445 1.19714572 1.25084346 1.85281363 1.65647785]]]\n"
     ]
    }
   ],
   "source": [
    "### [your code here]\n",
    "print(\"Array a:\\n\", a)\n",
    "print(\"\\nArray d (a + c):\\n\", d)\n",
    "\n"
   ]
  },
  {
   "cell_type": "markdown",
   "metadata": {},
   "source": [
    "\n",
    "### 12. Multiply a and c. Assign the result to e.\n"
   ]
  },
  {
   "cell_type": "code",
   "execution_count": 49,
   "metadata": {},
   "outputs": [
    {
     "name": "stdout",
     "output_type": "stream",
     "text": [
      "Array e (a * c):\n",
      " [[[0.7572231  0.18780504 0.38957816 0.85835148 0.40658923]\n",
      "  [0.62407291 0.69618725 0.40103061 0.92771998 0.22542756]\n",
      "  [0.68288134 0.48501065 0.7842375  0.04488339 0.98324777]]\n",
      "\n",
      " [[0.58894603 0.84870154 0.73658104 0.23794881 0.21809411]\n",
      "  [0.57306364 0.83240538 0.29737822 0.10364769 0.19825208]\n",
      "  [0.96656248 0.1943725  0.62006074 0.55945795 0.04527458]]]\n"
     ]
    }
   ],
   "source": [
    "### [your code here]\n",
    "e = a * c\n",
    "print(\"Array e (a * c):\\n\", e)\n"
   ]
  },
  {
   "cell_type": "markdown",
   "metadata": {},
   "source": [
    "\n",
    "\n",
    "### 13. Does e equal to a? Why or why not?\n"
   ]
  },
  {
   "cell_type": "code",
   "execution_count": null,
   "metadata": {},
   "outputs": [],
   "source": [
    "### [your code here]\n",
    "result = e = a # yes no error message\n",
    "\n",
    "\n"
   ]
  },
  {
   "cell_type": "markdown",
   "metadata": {},
   "source": [
    "\n",
    "\n",
    "### 14. Identify the max, min, and mean values in d. Assign those values to variables \"d_max\", \"d_min\", and \"d_mean\"\n"
   ]
  },
  {
   "cell_type": "code",
   "execution_count": null,
   "metadata": {},
   "outputs": [],
   "source": [
    "### [your code here]\n",
    "d = a + c\n",
    "print(d.shape)  # (2, 3, 5)\n"
   ]
  },
  {
   "cell_type": "markdown",
   "metadata": {},
   "source": [
    "\n",
    "### 15. Now we want to label the values in d. First create an empty array \"f\" with the same shape (i.e. 2x3x5) as d using `np.empty`.\n"
   ]
  },
  {
   "cell_type": "code",
   "execution_count": 52,
   "metadata": {},
   "outputs": [],
   "source": [
    "### [your code here]\n",
    "f = np.empty(d.shape, dtype=str)  #d exists and has shape (2, 3, 5)\n",
    "\n"
   ]
  },
  {
   "cell_type": "markdown",
   "metadata": {},
   "source": [
    "\n",
    "\n",
    "\n",
    "### 16. Populate the values in f. For each value in d, if it's larger than d_min but smaller than d_mean, assign 25 to the corresponding value in f.\n",
    "If a value in d is larger than d_mean but smaller than d_max, assign 75 to the corresponding value in f.\n",
    "If a value equals to d_mean, assign 50 to the corresponding value in f.\n",
    "Assign 0 to the corresponding value(s) in f for d_min in d.\n",
    "Assign 100 to the corresponding value(s) in f for d_max in d.\n",
    "In the end, f should have only the following values: 0, 25, 50, 75, and 100.\n",
    "Note: you don't have to use Numpy in this question.\n",
    "\n"
   ]
  },
  {
   "cell_type": "code",
   "execution_count": 54,
   "metadata": {},
   "outputs": [],
   "source": [
    "### [your code here]\n",
    "import numpy as np\n",
    "\n",
    "# Assuming d exists and f was created previously\n",
    "d_max = d.max()\n",
    "d_min = d.min()\n",
    "d_mean = d.mean()\n",
    "\n",
    "f = np.empty(d.shape, dtype=int)\n",
    "\n",
    "f[d == d_min] = 0\n",
    "f[d == d_max] = 100\n",
    "f[d == d_mean] = 50\n",
    "f[(d > d_min) & (d < d_mean)] = 25\n",
    "f[(d > d_mean) & (d < d_max)] = 75\n"
   ]
  },
  {
   "cell_type": "markdown",
   "metadata": {},
   "source": [
    "\n",
    "\n",
    "\n",
    "\n",
    "### 17. Print d and f. Do you have your expected f?\n",
    "For instance, if your d is:\n",
    "array([[[1.85836099, 1.67064465, 1.62576044, 1.40243961, 1.88454931],\n",
    "        [1.75354326, 1.69403643, 1.36729252, 1.61415071, 1.12104981],\n",
    "        [1.72201435, 1.1862918 , 1.87078449, 1.7726778 , 1.88180042]],\n",
    "\n",
    "       [[1.44747908, 1.31673383, 1.02000951, 1.52218947, 1.97066381],\n",
    "        [1.79129243, 1.74983003, 1.96028037, 1.85166831, 1.65450881],\n",
    "        [1.18068344, 1.9587381 , 1.00656599, 1.93402165, 1.73514584]]])\n",
    "\n",
    "Your f should be:\n",
    "array([[[ 75.,  75.,  75.,  25.,  75.],\n",
    "        [ 75.,  75.,  25.,  25.,  25.],\n",
    "        [ 75.,  25.,  75.,  75.,  75.]],\n",
    "\n",
    "       [[ 25.,  25.,  25.,  25., 100.],\n",
    "        [ 75.,  75.,  75.,  75.,  75.],\n",
    "        [ 25.,  75.,   0.,  75.,  75.]]])\n",
    "\n"
   ]
  },
  {
   "cell_type": "code",
   "execution_count": 55,
   "metadata": {},
   "outputs": [
    {
     "name": "stdout",
     "output_type": "stream",
     "text": [
      "d:\n",
      " [[[0.63858838 0.97842368 0.73849151 0.4444369  0.36510092]\n",
      "  [0.48798732 0.8826342  0.07737476 0.6345356  0.74559096]\n",
      "  [0.82600639 0.53541003 0.66752199 0.65500488 0.7859179 ]]\n",
      "\n",
      " [[0.56170139 0.03870089 0.92617291 0.73729991 0.81432591]\n",
      "  [0.90711578 0.47826598 0.04586168 0.95942183 0.62201317]\n",
      "  [0.08204477 0.28645118 0.72030008 0.15962519 0.71368897]]]\n",
      "\n",
      "f:\n",
      " [[[ 75. 100.  75.  25.  25.]\n",
      "  [ 25.  75.  25.  75.  75.]\n",
      "  [ 75.  25.  75.  75.  75.]]\n",
      "\n",
      " [[ 25.   0.  75.  75.  75.]\n",
      "  [ 75.  25.  25.  75.  75.]\n",
      "  [ 25.  25.  75.  25.  75.]]]\n"
     ]
    }
   ],
   "source": [
    "### [your code here]\n",
    "import numpy as np\n",
    "\n",
    "# Example: create d (2x3x5 random numbers)\n",
    "d = np.random.random((2, 3, 5))\n",
    "\n",
    "# Calculate statistics\n",
    "d_min = d.min()\n",
    "d_max = d.max()\n",
    "d_mean = d.mean()\n",
    "\n",
    "# Create empty f array with same shape\n",
    "f = np.empty(d.shape)\n",
    "\n",
    "# Apply conditions\n",
    "f[d == d_min] = 0\n",
    "f[d == d_max] = 100\n",
    "f[d == d_mean] = 50\n",
    "f[(d > d_min) & (d < d_mean)] = 25\n",
    "f[(d > d_mean) & (d < d_max)] = 75\n",
    "\n",
    "# Print results\n",
    "print(\"d:\\n\", d)\n",
    "print(\"\\nf:\\n\", f)\n",
    "\n"
   ]
  },
  {
   "cell_type": "markdown",
   "metadata": {},
   "source": [
    "### 18. Bonus question: instead of using numbers (i.e. 0, 25, 50, 75, and 100), how to use string values \n",
    "(\"A\", \"B\", \"C\", \"D\", and \"E\") to label the array elements? You are expecting the result to be:\n",
    "array([[[ 'D',  'D',  'D',  'B',  'D'],\n",
    "        [ 'D',  'D',  'B',  'B',  'B'],\n",
    "        [ 'D',  'B',  'D',  'D',  'D']],\n",
    "\n",
    "       [[ 'B',  'B',  'B',  'B',  'E'],\n",
    "        [ 'D',  'D',  'D',  'D',  'D'],\n",
    "        [ 'B',  'D',   'A',  'D', 'D']]])\n",
    "Again, you don't need Numpy in this question."
   ]
  },
  {
   "cell_type": "code",
   "execution_count": 56,
   "metadata": {},
   "outputs": [
    {
     "name": "stdout",
     "output_type": "stream",
     "text": [
      "d:\n",
      " [[[0.85330359 0.45046307 0.39179627 0.07448444 0.84613172]\n",
      "  [0.12034524 0.10631957 0.31262006 0.09752211 0.88331082]\n",
      "  [0.57809167 0.23105382 0.07915226 0.77671212 0.29982318]]\n",
      "\n",
      " [[0.12687171 0.63232444 0.08619222 0.8423109  0.00438713]\n",
      "  [0.90293613 0.93339457 0.25658248 0.80219819 0.35201639]\n",
      "  [0.74551317 0.33448287 0.71837158 0.39630745 0.59651861]]]\n",
      "\n",
      "f:\n",
      " [[['D' 'B' 'B' 'B' 'D']\n",
      "  ['B' 'B' 'B' 'B' 'D']\n",
      "  ['D' 'B' 'B' 'D' 'B']]\n",
      "\n",
      " [['B' 'D' 'B' 'D' 'A']\n",
      "  ['D' 'E' 'B' 'D' 'B']\n",
      "  ['D' 'B' 'D' 'B' 'D']]]\n"
     ]
    }
   ],
   "source": [
    "### [your code here]\n",
    "import numpy as np\n",
    "\n",
    "# Example array d\n",
    "d = np.random.random((2, 3, 5))\n",
    "\n",
    "# Calculate statistics\n",
    "d_min, d_max, d_mean = d.min(), d.max(), d.mean()\n",
    "\n",
    "# Create empty string array for f\n",
    "f = np.empty(d.shape, dtype=str)\n",
    "\n",
    "# Apply conditions for labeling\n",
    "f[d == d_min] = \"A\"\n",
    "f[d == d_max] = \"E\"\n",
    "f[d == d_mean] = \"C\"\n",
    "f[(d > d_min) & (d < d_mean)] = \"B\"\n",
    "f[(d > d_mean) & (d < d_max)] = \"D\"\n",
    "\n",
    "# Print result\n",
    "print(\"d:\\n\", d)\n",
    "print(\"\\nf:\\n\", f)\n"
   ]
  }
 ],
 "metadata": {
  "kernelspec": {
   "display_name": "base",
   "language": "python",
   "name": "python3"
  },
  "language_info": {
   "codemirror_mode": {
    "name": "ipython",
    "version": 3
   },
   "file_extension": ".py",
   "mimetype": "text/x-python",
   "name": "python",
   "nbconvert_exporter": "python",
   "pygments_lexer": "ipython3",
   "version": "3.12.7"
  }
 },
 "nbformat": 4,
 "nbformat_minor": 2
}
